{
 "cells": [
  {
   "cell_type": "markdown",
   "metadata": {},
   "source": [
    "# CARND Term 2 \n",
    "# Project 4 - PID controller \n",
    "\n",
    "\n",
    "---\n",
    "#### TODO: describe effects of P, I and D\n",
    "#### TODO: maak videos van wat gebeur na elke tuning \n",
    "\n",
    "\n",
    "## P, I and D\n",
    "### **P**roportional controller\n",
    "This is the first term I played with. In short, the P factor determines how sharp the vehicle turns. A higher value makes the vehicle turn faster. \n",
    "\n",
    "Below is a video of a scenario where the P factor is too high.\n",
    "\n",
    "You can see the vehicle's turn rate is excessive. \n",
    "### **I**ntegral controller\n",
    "The Integral factor dampens the steering angle based on the cumulative error (cte). This includes the sum of positive and negative values, which means that pendulum-esque movements of the vehicle (as views from above) decreases this adjustment. \n",
    "\n",
    "Below is a video of a scenario where the I factor is too high.\n",
    "\n",
    "\n",
    "\n",
    "### **D**ifferential controller\n",
    "The differential controller aims to smooth out the steering angle based on the change in cte. As the vehicle gets closer the the ground truth (the cte value decreases), the steering angle will become less acute.\n",
    "\n",
    "Having a large D value will make the vehicle become too excited to get back on track, which will make it overshoot the ground truth mark.\n",
    "\n",
    "## Tuning\n",
    "This was done manually, my C++ expertise was not on the level to dynamically tune the parameters on the fly. \n",
    "The steps can also be found in the main.cpp script, but here was what I experienced:\n",
    "\n",
    "* I started with PID = [2.9, 10.3, 0.5], which was taken as is from the lessons. It was way too extreme, the vehichle took super sharp turns and couldn't 'stick' to the groud truth.\n",
    "\n",
    "* After that I decreased the P factor to 0.3: [0.3, 10.3, 0.5]. This did not have the desired change. The vehicle still turned too sharply. \n",
    " \n",
    "* Next step was to decrease the I value so that the vehicle is less sensitive the the cumulative errors.  [0.3, 1.0, 0.5]\n",
    "\n",
    "* This really improved the quality of drive, but stil not good enough. Decreasing I even more [0.3, 0.1, 0.5]\n",
    "\n",
    "* Even more: [0.3, .001, 0.5]\n",
    "\n",
    "* Now the car has become too wavy, need to decreasse D [0.3, .001, 0.05]\n",
    "\n",
    "* Still too jerky: [0.3, .0005, 0.015]\n",
    "\n",
    "* Steering angle still a bit too extreme, so I decreased O [0.03, .0005, 0.015]\n",
    "\n",
    "* This works \n",
    "\n",
    "\n",
    "  \n",
    "  "
   ]
  }
 ],
 "metadata": {
  "kernelspec": {
   "display_name": "Python 3",
   "language": "python",
   "name": "python3"
  },
  "language_info": {
   "codemirror_mode": {
    "name": "ipython",
    "version": 3
   },
   "file_extension": ".py",
   "mimetype": "text/x-python",
   "name": "python",
   "nbconvert_exporter": "python",
   "pygments_lexer": "ipython3",
   "version": "3.6.1"
  }
 },
 "nbformat": 4,
 "nbformat_minor": 2
}
